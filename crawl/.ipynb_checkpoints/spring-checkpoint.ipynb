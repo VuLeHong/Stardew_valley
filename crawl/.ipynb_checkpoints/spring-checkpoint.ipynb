{
 "cells": [
  {
   "cell_type": "markdown",
   "id": "f7c040c4-8fb7-4903-95cc-e5314dd0111d",
   "metadata": {},
   "source": [
    "Scraping data from website"
   ]
  },
  {
   "cell_type": "code",
   "execution_count": null,
   "id": "8984b021-e6fd-485c-829b-d9dc53e95ec9",
   "metadata": {},
   "outputs": [],
   "source": []
  }
 ],
 "metadata": {
  "kernelspec": {
   "display_name": "Python 3 (ipykernel)",
   "language": "python",
   "name": "python3"
  },
  "language_info": {
   "codemirror_mode": {
    "name": "ipython",
    "version": 3
   },
   "file_extension": ".py",
   "mimetype": "text/x-python",
   "name": "python",
   "nbconvert_exporter": "python",
   "pygments_lexer": "ipython3",
   "version": "3.12.1"
  }
 },
 "nbformat": 4,
 "nbformat_minor": 5
}
